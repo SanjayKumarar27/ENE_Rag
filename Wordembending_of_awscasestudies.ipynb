{
  "nbformat": 4,
  "nbformat_minor": 0,
  "metadata": {
    "colab": {
      "provenance": [],
      "authorship_tag": "ABX9TyPB3+KeQdljde5IQ+EuIEzv",
      "include_colab_link": true
    },
    "kernelspec": {
      "name": "python3",
      "display_name": "Python 3"
    },
    "language_info": {
      "name": "python"
    }
  },
  "cells": [
    {
      "cell_type": "markdown",
      "metadata": {
        "id": "view-in-github",
        "colab_type": "text"
      },
      "source": [
        "<a href=\"https://colab.research.google.com/github/SanjayKumarar27/ENE_Rag/blob/main/Wordembending_of_awscasestudies.ipynb\" target=\"_parent\"><img src=\"https://colab.research.google.com/assets/colab-badge.svg\" alt=\"Open In Colab\"/></a>"
      ]
    },
    {
      "cell_type": "code",
      "source": [
        "!pip install fasttext"
      ],
      "metadata": {
        "colab": {
          "base_uri": "https://localhost:8080/"
        },
        "id": "mKo5-OiW7-vC",
        "outputId": "226ecc7d-9555-4e27-9bd3-dda0b58406d8"
      },
      "execution_count": 4,
      "outputs": [
        {
          "output_type": "stream",
          "name": "stdout",
          "text": [
            "Collecting fasttext\n",
            "  Downloading fasttext-0.9.3.tar.gz (73 kB)\n",
            "\u001b[2K     \u001b[90m━━━━━━━━━━━━━━━━━━━━━━━━━━━━━━━━━━━━━━━━\u001b[0m \u001b[32m73.4/73.4 kB\u001b[0m \u001b[31m1.8 MB/s\u001b[0m eta \u001b[36m0:00:00\u001b[0m\n",
            "\u001b[?25h  Installing build dependencies ... \u001b[?25l\u001b[?25hdone\n",
            "  Getting requirements to build wheel ... \u001b[?25l\u001b[?25hdone\n",
            "  Preparing metadata (pyproject.toml) ... \u001b[?25l\u001b[?25hdone\n",
            "Collecting pybind11>=2.2 (from fasttext)\n",
            "  Using cached pybind11-2.13.0-py3-none-any.whl (238 kB)\n",
            "Requirement already satisfied: setuptools>=0.7.0 in /usr/local/lib/python3.10/dist-packages (from fasttext) (67.7.2)\n",
            "Requirement already satisfied: numpy in /usr/local/lib/python3.10/dist-packages (from fasttext) (1.25.2)\n",
            "Building wheels for collected packages: fasttext\n",
            "  Building wheel for fasttext (pyproject.toml) ... \u001b[?25l\u001b[?25hdone\n",
            "  Created wheel for fasttext: filename=fasttext-0.9.3-cp310-cp310-linux_x86_64.whl size=4246840 sha256=b3128c30a5ba0733cf84ff17dc9e45d44c3e249f5cd9d09ae173183f7475b34a\n",
            "  Stored in directory: /root/.cache/pip/wheels/0d/a2/00/81db54d3e6a8199b829d58e02cec2ddb20ce3e59fad8d3c92a\n",
            "Successfully built fasttext\n",
            "Installing collected packages: pybind11, fasttext\n",
            "Successfully installed fasttext-0.9.3 pybind11-2.13.0\n"
          ]
        }
      ]
    },
    {
      "cell_type": "code",
      "source": [
        "import fasttext\n",
        "window_size = 5  # Context window size\n",
        "vector_size = 300  # Dimensionality of word vectors\n",
        "epochs = 10  # Number of epochs\n",
        "seed = 42  # Random seed for reproducibility\n",
        "model_type = 'skipgram'  # 'skipgram' or 'cbow'\n",
        "awsdata=r'/content/combined_texts.txt'\n",
        "# Train FastText model\n",
        "model = fasttext.train_unsupervised(awsdata, model=model_type, dim=vector_size, ws=window_size, epoch=epochs, thread=4)\n",
        "\n",
        "# Save the trained model\n",
        "model.save_model('custom_fasttext_model.bin')\n",
        "\n",
        "# Load the trained model\n",
        "model = fasttext.load_model('custom_fasttext_model.bin')\n",
        "\n",
        "# Example: Get word embedding for a specific word\n",
        "word_embedding = model.get_word_vector('example')\n",
        "print(word_embedding)"
      ],
      "metadata": {
        "colab": {
          "base_uri": "https://localhost:8080/"
        },
        "id": "I850U36r7n51",
        "outputId": "b91d7b75-5aca-49b4-9d05-378b940e8363"
      },
      "execution_count": 9,
      "outputs": [
        {
          "output_type": "stream",
          "name": "stdout",
          "text": [
            "[-0.30802017 -0.4494222  -0.11872178 -0.24072567 -0.09902676 -0.04809209\n",
            " -0.24362066  0.09401894 -0.4323063  -0.16296083  0.14345522 -0.37095383\n",
            "  0.42795074  0.5633489   0.31202957 -0.44451892  0.15867317  0.355194\n",
            "  0.21179767 -0.636771   -0.03561796 -0.5346839  -0.17438957 -0.27338484\n",
            " -0.08714582 -0.24031022 -0.00845067 -0.45493716 -0.05995645 -0.03881444\n",
            " -0.49996826 -0.02074632  0.4002304  -0.00709492 -0.3281322  -0.24715726\n",
            " -0.0143233  -0.32631338 -0.27384332  0.5134484   0.23004338  0.11690253\n",
            "  0.18815465 -0.12370525 -0.31603822 -0.25944796  0.19943126 -0.15413296\n",
            " -0.20972155  0.03021671 -0.04626278 -0.40361434 -0.05949463  0.4623876\n",
            "  0.34059188  0.28379798 -0.05423858 -0.11570454 -0.44467807 -0.02090203\n",
            "  0.67139405 -0.08718698  0.09616085 -0.02429155  0.09347495 -0.24004081\n",
            "  0.5061855  -0.1262332   0.1896004   0.25908533 -0.16660877  0.09351608\n",
            "  0.26384053  0.31245014  0.42964137 -0.35230166 -0.03991155  0.08164893\n",
            " -0.14147192  0.02841303 -0.0517978   0.63549656  0.2849332  -0.504662\n",
            " -0.3633646   0.10688701  0.25363097 -0.3181515  -0.3473877  -0.12431717\n",
            " -0.11179703  0.26352814 -0.18014786 -0.17952223 -0.3105276  -0.24538171\n",
            "  0.1845658  -0.02542531 -0.24129626  0.12772056  0.33046177  0.19722584\n",
            "  0.07346296  0.05305637  0.03956942  0.33730152 -0.4283782   0.17080425\n",
            "  0.1858442  -0.2315227  -0.41196102  0.22229348 -0.36952713 -0.13210176\n",
            " -0.17080514 -0.02154774  0.09293588  0.42872882  0.25903243  0.17373484\n",
            " -0.16451845 -0.46388823 -0.08280231 -0.12541923 -0.11360358 -0.19611804\n",
            " -0.3719009   0.34560713  0.12065455  0.05971768 -0.20586334 -0.33826187\n",
            "  0.08157763 -0.38463524  0.06839062 -0.18872769 -0.03728047 -0.20050155\n",
            " -0.06712256 -0.260854    0.26638696  0.14930505  0.12794927  0.58739424\n",
            " -0.1523924  -0.14547174  0.2587404  -0.28385705 -0.10298932 -0.1760873\n",
            " -0.23833768 -0.07233682  0.15236658  0.46905327  0.25812352  0.25352117\n",
            " -0.15441726 -0.19095363  0.44960356  0.09483103 -0.19016947  0.1092064\n",
            "  0.0299168   0.04108863  0.04142308 -0.26803577 -0.19217065  0.10041122\n",
            "  0.37471366 -0.4303987  -0.11657393  0.19134064 -0.35607156  0.07140671\n",
            "  0.13351756 -0.10250485  0.04007183 -0.14560793 -0.2158408   0.06727186\n",
            "  0.2510848  -0.00340809 -0.29314333  0.22845542  0.24422093  0.05725677\n",
            " -0.08694647 -0.3256956  -0.20808649 -0.03137011 -0.09961647  0.06866619\n",
            "  0.24693902 -0.3459625   0.0070278  -0.15423156  0.27117845  0.12698177\n",
            "  0.35691908 -0.0332125   0.27188784 -0.09389009  0.36269438 -0.08946502\n",
            " -0.10843515 -0.31714875 -0.67662907 -0.14499417  0.02267225  0.26988482\n",
            "  0.03540997  0.57131106  0.05970323 -0.41282284  0.05057061 -0.06034631\n",
            " -0.06065147 -0.06688112 -0.25224623  0.12274798 -0.18901655 -0.14598604\n",
            " -0.44959965  0.38977513 -0.04444767  0.13202141 -0.07908574  0.03696382\n",
            " -0.10467552 -0.21789671 -0.01038735  0.12003388 -0.06405496 -0.09480868\n",
            " -0.06126835 -0.08673009  0.07992801 -0.179516   -0.14218561  0.320613\n",
            "  0.01995652 -0.22368568 -0.00081518 -0.18288282 -0.05394429  0.09308847\n",
            "  0.42235482  0.03628344  0.13142908 -0.15190032 -0.17331171 -0.21961835\n",
            "  0.26912326  0.4632813  -0.4556087   0.14356439  0.32487458 -0.06563931\n",
            " -0.09717377  0.3066062   0.27737296  0.28039977 -0.20486702  0.33209696\n",
            "  0.38524953  0.06605954  0.143459   -0.26830086 -0.31322274  0.22040159\n",
            "  0.02932632 -0.04795321  0.2886286   0.15267102 -0.27210563 -0.43410838\n",
            "  0.03727721  0.1365477   0.26389894 -0.11357755  0.11432546 -0.009975\n",
            "  0.373794   -0.1648363   0.12125476  0.15683663 -0.19426392  0.19852233\n",
            "  0.45734343 -0.02686783 -0.42968094 -0.13414587 -0.15084651  0.08129196\n",
            " -0.05553596 -0.01467835 -0.3579041  -0.09211391  0.14111994  0.08347287]\n"
          ]
        }
      ]
    },
    {
      "cell_type": "code",
      "source": [
        "word_embedding = model.get_word_vector('cloud')\n",
        "print(word_embedding)"
      ],
      "metadata": {
        "colab": {
          "base_uri": "https://localhost:8080/"
        },
        "id": "Ij1ns4aB_20s",
        "outputId": "ee184f25-7d64-4154-d0f7-f56351f1b7bd"
      },
      "execution_count": 11,
      "outputs": [
        {
          "output_type": "stream",
          "name": "stdout",
          "text": [
            "[-4.34467107e-01  1.79460794e-01  1.33066669e-01 -9.16853175e-02\n",
            "  1.68952793e-02 -1.90911531e-01  3.73689551e-03  2.94435948e-01\n",
            "  3.61083895e-01 -2.23748893e-01 -2.15979144e-01 -7.86171556e-02\n",
            "  5.51046915e-02 -7.93110393e-03  2.79948622e-01 -1.05777867e-01\n",
            "  4.92575280e-02  3.34651560e-01 -1.28136622e-02 -7.98108131e-02\n",
            " -1.98237330e-01  3.75012904e-01 -4.64549027e-02 -2.34816059e-01\n",
            "  2.62585338e-02  5.21674931e-01 -9.04500037e-02 -1.36153579e-01\n",
            "  1.44250885e-01  1.26487195e-01  1.12302423e-01  1.97039410e-01\n",
            " -1.83284357e-01  1.58189118e-01 -5.30860186e-01  1.00921571e-01\n",
            "  1.16251253e-01 -1.51298270e-01  1.07669681e-01 -1.20713718e-01\n",
            "  2.97847558e-02  1.96101338e-01  6.03346038e-04 -3.61183703e-01\n",
            " -1.03966938e-02  3.61874476e-02  6.52574450e-02 -3.87029313e-02\n",
            " -3.17057490e-01  4.29581441e-02 -1.88015133e-01  1.90583728e-02\n",
            " -5.12763783e-02 -6.93208799e-02  7.90287927e-02 -7.65272081e-02\n",
            " -3.75996567e-02  5.42200655e-02  1.85397305e-02 -1.32986754e-01\n",
            " -9.61978920e-03  1.82022154e-01  2.53477037e-01 -1.34015530e-01\n",
            " -2.71441609e-01  3.99256229e-01  3.79912138e-01  2.54189074e-01\n",
            " -9.36086997e-02 -5.71875095e-01 -4.12534922e-01  1.57725528e-01\n",
            "  3.55406970e-01 -4.21574682e-01  3.98628488e-02  2.82687515e-01\n",
            "  1.58673711e-02  3.35126013e-01  2.34203905e-01  1.84596956e-01\n",
            "  3.65408510e-02  2.68648356e-01 -6.47404231e-03 -2.22099692e-01\n",
            "  1.18429609e-01  4.79196347e-02  3.51404369e-01  2.14862078e-01\n",
            " -1.90517962e-01 -2.70674318e-01  1.22335032e-01 -3.24430883e-01\n",
            "  2.68597573e-01  6.73282295e-02  6.95253387e-02  2.89075255e-01\n",
            " -2.67640240e-02  1.45728946e-01 -3.61435711e-01 -2.23705366e-01\n",
            " -6.51057512e-02 -8.23345259e-02 -1.30187934e-02  1.45027526e-02\n",
            " -5.82387336e-02 -1.41753361e-01  4.13582385e-01 -9.49739888e-02\n",
            " -7.04951808e-02  3.13191637e-02  2.69011110e-01 -2.39962220e-01\n",
            " -4.22529489e-01  2.10627124e-01 -5.63453853e-01  9.54102427e-02\n",
            " -3.73961061e-01  7.36589078e-03  5.24465516e-02 -2.17748694e-02\n",
            " -1.63225964e-01  1.92304477e-01 -2.77726024e-01 -2.80567855e-01\n",
            " -9.91022214e-02 -5.24357438e-01  2.74250954e-01  8.73058066e-02\n",
            " -5.31059086e-01 -1.29351839e-01  2.13499274e-02 -2.13727787e-01\n",
            "  1.08432218e-01 -5.66018447e-02  1.93614885e-01  7.76246935e-02\n",
            " -7.52307698e-02  2.08139747e-01 -5.94256222e-01  1.64557755e-01\n",
            "  2.49124318e-01 -4.29506302e-01 -1.11678317e-01 -3.06833118e-01\n",
            "  3.16450953e-01 -5.55945262e-02 -2.45407224e-01  2.84988463e-01\n",
            " -1.13653913e-01 -9.33111086e-02 -1.64186552e-01  3.05721343e-01\n",
            "  1.43815488e-01  3.37102890e-01  1.87824592e-01 -2.17931181e-01\n",
            " -2.23002955e-01 -1.08339868e-01  4.85715657e-01 -1.38079464e-01\n",
            " -1.40921861e-01 -1.46979302e-01 -3.98613885e-02 -3.20329130e-01\n",
            " -5.21714017e-02 -6.89660251e-01 -8.14311113e-03  5.65110855e-02\n",
            " -1.10069141e-01  4.24048543e-01 -1.28613621e-01  2.42816955e-01\n",
            " -2.03738362e-01 -1.17112465e-01 -4.42134291e-01 -2.04798996e-01\n",
            "  7.99182281e-02 -3.73653807e-02  7.15257302e-02 -1.04000211e-01\n",
            " -2.56052732e-01  2.17006251e-01  1.91630915e-01  1.97936893e-01\n",
            "  8.74035135e-02 -2.29759082e-01  8.12323093e-02 -8.91838372e-02\n",
            " -1.94208056e-01  4.69723195e-02 -2.80693173e-01  2.05029726e-01\n",
            " -2.65151978e-01  1.37052342e-01 -1.24307543e-01 -4.66059059e-01\n",
            "  1.18456565e-01  4.50175405e-02  3.22839409e-01 -3.55626315e-01\n",
            "  1.55510858e-01 -2.50096232e-01  4.65791486e-02 -1.28377667e-02\n",
            "  1.60732463e-01 -5.91290593e-02 -4.84360158e-02 -5.92670202e-01\n",
            "  2.14694083e-01  1.57299429e-01 -3.06260418e-02  2.05804676e-01\n",
            " -3.76659214e-01 -1.86459884e-01 -2.65539408e-01 -2.00010873e-02\n",
            "  3.17163795e-01  4.50411858e-03  2.29642764e-02 -1.94596678e-01\n",
            "  1.91806369e-02 -1.06805572e-04  2.36485243e-01 -5.01281656e-02\n",
            "  3.53242867e-02 -6.54797405e-02 -4.56720114e-01 -1.73653811e-01\n",
            " -1.89396739e-01 -4.77670878e-01  3.09205311e-03  5.37083209e-01\n",
            " -2.33980656e-01  2.12355554e-02  3.90291870e-01 -4.53999519e-01\n",
            "  4.31909598e-03 -8.34046975e-02  5.72944768e-02 -5.26324213e-01\n",
            "  1.71755359e-01 -1.30113915e-01 -2.13911608e-01  2.53415436e-01\n",
            " -1.35421976e-01  2.27873057e-01 -1.76216103e-02 -3.34095627e-01\n",
            "  3.18038076e-01  5.26699014e-02 -3.92151587e-02 -4.39144075e-01\n",
            "  2.50561327e-01 -7.02583045e-02  1.92483172e-01 -2.39115909e-01\n",
            "  1.23619743e-01 -8.25031623e-02  8.22911114e-02  2.28260636e-01\n",
            " -4.53324690e-02  5.88333644e-02  3.36788483e-02 -1.82867602e-01\n",
            "  8.78238305e-02  2.98728079e-01 -1.46385774e-01  1.40433744e-01\n",
            " -8.62521455e-02 -4.36778069e-01 -2.15867478e-02 -1.34543151e-01\n",
            " -1.13758765e-01 -2.13713311e-02  2.79716492e-01 -7.26376995e-02\n",
            "  4.00117218e-01 -1.19917067e-02 -8.98585618e-02  9.69853103e-02\n",
            " -2.25414969e-02  3.38936858e-02 -4.37240861e-02  2.31693670e-01\n",
            " -2.73263361e-02  9.74456489e-05 -6.52190745e-02 -1.36198690e-02\n",
            "  2.92761296e-01  1.67649600e-03  2.44249459e-02 -3.09806317e-01\n",
            " -4.10367623e-02  2.96764106e-01  1.42003804e-01 -8.72090384e-02\n",
            "  1.79322794e-01  2.48963740e-02  1.32489428e-01  5.00504196e-01]\n"
          ]
        }
      ]
    },
    {
      "cell_type": "code",
      "source": [
        "!pip install annoy"
      ],
      "metadata": {
        "colab": {
          "base_uri": "https://localhost:8080/"
        },
        "id": "Sp43TltSAVQ2",
        "outputId": "dfdbedc1-8d19-488b-aa93-05ddeda52d95"
      },
      "execution_count": 13,
      "outputs": [
        {
          "output_type": "stream",
          "name": "stdout",
          "text": [
            "Collecting annoy\n",
            "  Downloading annoy-1.17.3.tar.gz (647 kB)\n",
            "\u001b[2K     \u001b[90m━━━━━━━━━━━━━━━━━━━━━━━━━━━━━━━━━━━━━━━━\u001b[0m \u001b[32m647.5/647.5 kB\u001b[0m \u001b[31m5.3 MB/s\u001b[0m eta \u001b[36m0:00:00\u001b[0m\n",
            "\u001b[?25h  Preparing metadata (setup.py) ... \u001b[?25l\u001b[?25hdone\n",
            "Building wheels for collected packages: annoy\n",
            "  Building wheel for annoy (setup.py) ... \u001b[?25l\u001b[?25hdone\n",
            "  Created wheel for annoy: filename=annoy-1.17.3-cp310-cp310-linux_x86_64.whl size=552451 sha256=6a55aea72099177854d2dfad8ca7a23b1e2475d425339443f3c92f1a235a4e16\n",
            "  Stored in directory: /root/.cache/pip/wheels/64/8a/da/f714bcf46c5efdcfcac0559e63370c21abe961c48e3992465a\n",
            "Successfully built annoy\n",
            "Installing collected packages: annoy\n",
            "Successfully installed annoy-1.17.3\n"
          ]
        }
      ]
    },
    {
      "cell_type": "code",
      "source": [
        "!pip install matplotlib"
      ],
      "metadata": {
        "colab": {
          "base_uri": "https://localhost:8080/"
        },
        "id": "WtzITBpHB2--",
        "outputId": "ff859cf0-0a57-4582-cf27-284e5db90918"
      },
      "execution_count": 16,
      "outputs": [
        {
          "output_type": "stream",
          "name": "stdout",
          "text": [
            "Requirement already satisfied: matplotlib in /usr/local/lib/python3.10/dist-packages (3.7.1)\n",
            "Requirement already satisfied: contourpy>=1.0.1 in /usr/local/lib/python3.10/dist-packages (from matplotlib) (1.2.1)\n",
            "Requirement already satisfied: cycler>=0.10 in /usr/local/lib/python3.10/dist-packages (from matplotlib) (0.12.1)\n",
            "Requirement already satisfied: fonttools>=4.22.0 in /usr/local/lib/python3.10/dist-packages (from matplotlib) (4.53.0)\n",
            "Requirement already satisfied: kiwisolver>=1.0.1 in /usr/local/lib/python3.10/dist-packages (from matplotlib) (1.4.5)\n",
            "Requirement already satisfied: numpy>=1.20 in /usr/local/lib/python3.10/dist-packages (from matplotlib) (1.25.2)\n",
            "Requirement already satisfied: packaging>=20.0 in /usr/local/lib/python3.10/dist-packages (from matplotlib) (24.1)\n",
            "Requirement already satisfied: pillow>=6.2.0 in /usr/local/lib/python3.10/dist-packages (from matplotlib) (9.4.0)\n",
            "Requirement already satisfied: pyparsing>=2.3.1 in /usr/local/lib/python3.10/dist-packages (from matplotlib) (3.1.2)\n",
            "Requirement already satisfied: python-dateutil>=2.7 in /usr/local/lib/python3.10/dist-packages (from matplotlib) (2.8.2)\n",
            "Requirement already satisfied: six>=1.5 in /usr/local/lib/python3.10/dist-packages (from python-dateutil>=2.7->matplotlib) (1.16.0)\n"
          ]
        }
      ]
    },
    {
      "cell_type": "code",
      "source": [
        "\n",
        "!pip install scikit-learn"
      ],
      "metadata": {
        "colab": {
          "base_uri": "https://localhost:8080/"
        },
        "id": "xKZXtRD0DQHq",
        "outputId": "dae3dc3c-f8d0-4c35-b116-51cfc0ee9e13"
      },
      "execution_count": 25,
      "outputs": [
        {
          "output_type": "stream",
          "name": "stdout",
          "text": [
            "Requirement already satisfied: scikit-learn in /usr/local/lib/python3.10/dist-packages (1.2.2)\n",
            "Requirement already satisfied: numpy>=1.17.3 in /usr/local/lib/python3.10/dist-packages (from scikit-learn) (1.25.2)\n",
            "Requirement already satisfied: scipy>=1.3.2 in /usr/local/lib/python3.10/dist-packages (from scikit-learn) (1.11.4)\n",
            "Requirement already satisfied: joblib>=1.1.1 in /usr/local/lib/python3.10/dist-packages (from scikit-learn) (1.4.2)\n",
            "Requirement already satisfied: threadpoolctl>=2.0.0 in /usr/local/lib/python3.10/dist-packages (from scikit-learn) (3.5.0)\n"
          ]
        }
      ]
    },
    {
      "cell_type": "code",
      "source": [
        "import fasttext\n",
        "from annoy import AnnoyIndex\n",
        "import numpy as np\n",
        "import matplotlib.pyplot as plt\n",
        "from sklearn.metrics.pairwise import cosine_similarity"
      ],
      "metadata": {
        "id": "RXtu2n_1EuW4"
      },
      "execution_count": 34,
      "outputs": []
    },
    {
      "cell_type": "code",
      "source": [
        "from annoy import AnnoyIndex\n",
        "import numpy as np\n",
        "\n",
        "# Load the fine-tuned model\n",
        "model = fasttext.load_model('/content/custom_fasttext_model.bin')\n",
        "\n",
        "# Create an Annoy index\n",
        "vector_dim = 300  # Dimensionality of word vectors\n",
        "annoy_index = AnnoyIndex(vector_dim, 'angular')\n",
        "\n",
        "# Add words to the Annoy index\n",
        "words = model.get_words()\n",
        "for i, word in enumerate(words):\n",
        "    vector = model.get_word_vector(word)\n",
        "    annoy_index.add_item(i, vector)\n",
        "\n",
        "# Build the index with the specified number of trees\n",
        "annoy_index.build(10)\n",
        "\n",
        "# Function to find similar words\n",
        "def find_similar_words(query_word, model, annoy_index, top_n=10):\n",
        "    query_vector = model.get_word_vector(query_word)\n",
        "    nearest_indices = annoy_index.get_nns_by_vector(query_vector, top_n)\n",
        "    similar_words = [words[i] for i in nearest_indices]\n",
        "    return similar_words\n",
        "\n",
        "# Example usage\n",
        "query_word = 'cloud'\n",
        "similar_words = find_similar_words(query_word, model, annoy_index)\n",
        "print(similar_words)\n"
      ],
      "metadata": {
        "colab": {
          "base_uri": "https://localhost:8080/"
        },
        "id": "Hs-XMCCMAMFm",
        "outputId": "c1fe0e71-20bc-472f-f1b8-1d57b6df8fb3"
      },
      "execution_count": 35,
      "outputs": [
        {
          "output_type": "stream",
          "name": "stdout",
          "text": [
            "['cloud', 'cloud.\\xa0', 'cloud.', 'multicloud', 'Cloud.', 'cloud-native,', 'CloudCall’s', 'Cloud,', 'CloudCall', 'Maestro']\n"
          ]
        }
      ]
    },
    {
      "cell_type": "code",
      "source": [
        "query_word = 'Athena'\n",
        "similar_words = find_similar_words(query_word, model, annoy_index)\n",
        "similarity_scores = calculate_similarity_scores(query_word, similar_words,model)\n",
        "print(f\"Similar words to '{query_word}':\")\n",
        "for word, score in zip(similar_words, similarity_scores):\n",
        "    print(f\"{word}: {score:.4f}\")\n",
        "plot_similar_words(query_word, similar_words, similarity_scores)"
      ],
      "metadata": {
        "colab": {
          "base_uri": "https://localhost:8080/",
          "height": 789
        },
        "id": "4c0sp3_eAiMR",
        "outputId": "1a95ab47-4ae3-43fa-80e8-12c32c21a77e"
      },
      "execution_count": 36,
      "outputs": [
        {
          "output_type": "stream",
          "name": "stdout",
          "text": [
            "Similar words to 'Athena':\n",
            "Athena: 1.0000\n",
            "Athena.: 0.9672\n",
            "Athena,: 0.9470\n",
            "SQL.: 0.7871\n",
            "query: 0.6856\n",
            "Glue: 0.6678\n",
            "KNN: 0.6416\n",
            "JSON: 0.6004\n",
            "SQL: 0.5874\n",
            "S3,: 0.5838\n"
          ]
        },
        {
          "output_type": "display_data",
          "data": {
            "text/plain": [
              "<Figure size 1000x600 with 1 Axes>"
            ],
            "image/png": "[encoded data removed]"
          },
          "metadata": {}
        }
      ]
    }
  ]
}