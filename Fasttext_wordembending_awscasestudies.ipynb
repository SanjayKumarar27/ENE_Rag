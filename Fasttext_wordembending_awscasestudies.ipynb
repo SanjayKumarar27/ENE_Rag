{
  "nbformat": 4,
  "nbformat_minor": 0,
  "metadata": {
    "colab": {
      "provenance": [],
      "authorship_tag": "ABX9TyMobLZJmeFyy10HDlu05yCK",
      "include_colab_link": true
    },
    "kernelspec": {
      "name": "python3",
      "display_name": "Python 3"
    },
    "language_info": {
      "name": "python"
    }
  },
  "cells": [
    {
      "cell_type": "markdown",
      "metadata": {
        "id": "view-in-github",
        "colab_type": "text"
      },
      "source": [
        "<a href=\"https://colab.research.google.com/github/SanjayKumarar27/ENE_Rag/blob/main/Fasttext_wordembending_awscasestudies.ipynb\" target=\"_parent\"><img src=\"https://colab.research.google.com/assets/colab-badge.svg\" alt=\"Open In Colab\"/></a>"
      ]
    },
    {
      "cell_type": "code",
      "source": [
        "!pip install fasttext"
      ],
      "metadata": {
        "colab": {
          "base_uri": "https://localhost:8080/"
        },
        "id": "mKo5-OiW7-vC",
        "outputId": "def6db41-af87-466c-d76f-eca78f1dacd0"
      },
      "execution_count": 1,
      "outputs": [
        {
          "output_type": "stream",
          "name": "stdout",
          "text": [
            "Collecting fasttext\n",
            "  Downloading fasttext-0.9.3.tar.gz (73 kB)\n",
            "\u001b[2K     \u001b[90m━━━━━━━━━━━━━━━━━━━━━━━━━━━━━━━━━━━━━━━━\u001b[0m \u001b[32m73.4/73.4 kB\u001b[0m \u001b[31m923.1 kB/s\u001b[0m eta \u001b[36m0:00:00\u001b[0m\n",
            "\u001b[?25h  Installing build dependencies ... \u001b[?25l\u001b[?25hdone\n",
            "  Getting requirements to build wheel ... \u001b[?25l\u001b[?25hdone\n",
            "  Preparing metadata (pyproject.toml) ... \u001b[?25l\u001b[?25hdone\n",
            "Collecting pybind11>=2.2 (from fasttext)\n",
            "  Using cached pybind11-2.13.1-py3-none-any.whl (238 kB)\n",
            "Requirement already satisfied: setuptools>=0.7.0 in /usr/local/lib/python3.10/dist-packages (from fasttext) (67.7.2)\n",
            "Requirement already satisfied: numpy in /usr/local/lib/python3.10/dist-packages (from fasttext) (1.25.2)\n",
            "Building wheels for collected packages: fasttext\n",
            "  Building wheel for fasttext (pyproject.toml) ... \u001b[?25l\u001b[?25hdone\n",
            "  Created wheel for fasttext: filename=fasttext-0.9.3-cp310-cp310-linux_x86_64.whl size=4246766 sha256=39320e2402684f6cdcf9e1fcf165b9a041f7ff596ac204c60c88d7800edf9aca\n",
            "  Stored in directory: /root/.cache/pip/wheels/0d/a2/00/81db54d3e6a8199b829d58e02cec2ddb20ce3e59fad8d3c92a\n",
            "Successfully built fasttext\n",
            "Installing collected packages: pybind11, fasttext\n",
            "Successfully installed fasttext-0.9.3 pybind11-2.13.1\n"
          ]
        }
      ]
    },
    {
      "cell_type": "code",
      "source": [
        "import fasttext\n",
        "window_size = 5  # Context window size\n",
        "vector_size = 300  # Dimensionality of word vectors\n",
        "epochs = 10  # Number of epochs\n",
        "seed = 42  # Random seed for reproducibility\n",
        "model_type = 'skipgram'  # 'skipgram' or 'cbow'\n",
        "awsdata=r'/content/combined_texts.txt'\n",
        "# Train FastText model\n",
        "model = fasttext.train_unsupervised(awsdata, model=model_type, dim=vector_size, ws=window_size, epoch=epochs, thread=4)\n",
        "\n",
        "# Save the trained model\n",
        "model.save_model('custom_fasttext_model.bin')\n",
        "\n",
        "# Load the trained model\n",
        "model = fasttext.load_model('custom_fasttext_model.bin')\n",
        "\n",
        "# Example: Get word embedding for a specific word\n",
        "word_embedding = model.get_word_vector('example')\n",
        "print(word_embedding)"
      ],
      "metadata": {
        "colab": {
          "base_uri": "https://localhost:8080/"
        },
        "id": "I850U36r7n51",
        "outputId": "e4f8e9bf-f662-42f4-b79c-c802abaa4a7c"
      },
      "execution_count": 2,
      "outputs": [
        {
          "output_type": "stream",
          "name": "stdout",
          "text": [
            "[-2.20397621e-01 -4.47705060e-01 -5.74797615e-02 -1.72892407e-01\n",
            " -1.67749062e-01 -1.97013527e-01 -4.43815202e-01  1.50028661e-01\n",
            " -3.93501580e-01 -2.03363672e-01  7.91806821e-03 -4.99526411e-01\n",
            "  3.98998976e-01  3.75403404e-01  2.05025628e-01 -4.71342683e-01\n",
            " -9.75442156e-02  3.06938350e-01  1.42167196e-01 -4.46882218e-01\n",
            "  1.25735283e-01 -3.98082405e-01 -1.80014119e-01 -3.16316098e-01\n",
            " -8.90012085e-02 -2.68502891e-01  1.41402379e-01 -3.94720405e-01\n",
            " -1.02916528e-02  3.04442388e-03 -4.70270842e-01 -2.28620157e-01\n",
            "  5.09280562e-01  1.10387959e-01 -3.50565463e-01 -1.53548703e-01\n",
            " -3.63552570e-02 -2.34619886e-01 -2.65927106e-01  4.28005219e-01\n",
            "  1.50516424e-02 -5.35334684e-02  1.21842243e-01  5.28002642e-02\n",
            " -2.71188051e-01 -3.84665787e-01  2.26802185e-01 -2.34338418e-02\n",
            " -1.87509999e-01  1.19130217e-01  1.85871739e-02 -3.35553229e-01\n",
            " -2.67462563e-02  3.66296321e-01  2.91093767e-01  2.16275930e-01\n",
            " -9.41144824e-02 -1.62599742e-01 -4.01344150e-01 -5.23933657e-02\n",
            "  6.37974322e-01 -1.16420751e-02 -2.21470259e-02 -8.29230249e-02\n",
            "  3.01482558e-01 -1.92730963e-01  4.86214221e-01  6.90442789e-03\n",
            "  1.08608179e-01  2.73614705e-01  1.74047537e-02 -1.11898206e-01\n",
            "  2.63482958e-01  4.61885661e-01  4.61128652e-01 -2.32725561e-01\n",
            "  3.82510833e-02  5.65407239e-02 -2.77901322e-01 -1.07939929e-01\n",
            " -5.82038425e-02  4.94888276e-01  2.58553863e-01 -4.15921122e-01\n",
            " -3.02018166e-01 -3.96899357e-02  2.65172511e-01 -2.38488227e-01\n",
            " -4.66542333e-01 -1.90945834e-01 -2.60985434e-01  2.64981687e-01\n",
            " -1.38258383e-01  1.71015114e-02 -5.16528070e-01 -2.92041868e-01\n",
            "  1.48185775e-01  2.06508096e-02 -1.89484015e-01  1.87990665e-01\n",
            "  2.67868102e-01  2.47373372e-01 -5.88598363e-02 -2.38596611e-02\n",
            " -1.32463099e-02  2.91340053e-01 -4.76397574e-01  7.78797120e-02\n",
            "  1.32271811e-01 -3.71178329e-01 -4.31922138e-01  3.32985252e-01\n",
            " -3.63605708e-01 -1.11031391e-01 -3.21091235e-01 -1.25393942e-01\n",
            "  1.94340602e-01  2.27400273e-01  3.51384789e-01  2.39775866e-01\n",
            " -1.71686471e-01 -4.10149157e-01 -2.33449843e-02  1.71367601e-02\n",
            " -6.09441400e-02 -2.89376527e-01 -4.55209792e-01  2.01968566e-01\n",
            "  8.74898434e-02  1.03155799e-01 -2.76182920e-01 -3.78716052e-01\n",
            "  7.89977759e-02 -3.53362352e-01  6.62600696e-02 -5.17401285e-02\n",
            " -8.27251300e-02 -2.10452422e-01 -1.18189119e-01 -2.71149635e-01\n",
            "  2.68502027e-01  1.65872902e-01  2.59751529e-01  6.51904047e-01\n",
            "  2.57696811e-04 -2.67374665e-01  1.99589938e-01 -4.41572458e-01\n",
            " -2.14546576e-01 -2.43128970e-01 -2.68175095e-01  2.34396383e-02\n",
            "  1.36446074e-01  4.93753552e-01  3.36354785e-02  2.33693257e-01\n",
            " -1.59268335e-01 -7.57831633e-02  3.57094526e-01  7.52747208e-02\n",
            " -2.83592284e-01  1.20036356e-01  4.88848016e-02  9.52705927e-03\n",
            "  2.17494424e-02 -1.03069641e-01 -2.78570831e-01  1.48149967e-01\n",
            "  1.53115645e-01 -4.82187063e-01 -1.41496181e-01  1.76614717e-01\n",
            " -3.61411065e-01  6.37734979e-02 -1.46857835e-02 -1.64397180e-01\n",
            "  2.00537845e-01 -2.44944468e-02 -2.17561305e-01  1.12753278e-02\n",
            "  1.32450268e-01  1.38637424e-02 -2.59935468e-01 -1.90526787e-02\n",
            "  3.21736753e-01  5.85384853e-02 -2.97602683e-01 -4.12524730e-01\n",
            " -2.91509330e-01  4.81960066e-02 -2.09114864e-01 -7.10528716e-02\n",
            "  2.80641943e-01 -4.53390419e-01  3.56730558e-02 -1.21413328e-01\n",
            "  3.22426438e-01  2.58155800e-02  3.89828771e-01  2.18268018e-02\n",
            "  4.84551013e-01 -1.67553470e-01  3.22632313e-01 -8.78724754e-02\n",
            " -5.88406399e-02 -3.52272004e-01 -6.42762840e-01 -1.43504381e-01\n",
            "  5.05741984e-02  2.90888697e-01 -4.06689085e-02  8.39231610e-01\n",
            "  1.45015761e-01 -4.12923813e-01  8.81931186e-02  2.64000129e-02\n",
            " -1.34885877e-01 -1.67050734e-01 -2.71153837e-01  2.86005676e-01\n",
            "  9.87387728e-03 -1.50982335e-01 -3.44132006e-01  4.71153200e-01\n",
            " -1.17803842e-01  1.49619937e-01 -6.54719472e-02 -8.37882385e-02\n",
            " -2.22051457e-01 -2.08947435e-01 -1.53919995e-01  1.35893881e-01\n",
            " -9.01271552e-02 -1.51213467e-01 -1.01085067e-01 -1.49224192e-01\n",
            "  4.93852124e-02 -2.81376392e-01 -2.00076401e-01  2.73522943e-01\n",
            "  8.73986855e-02 -1.64483875e-01 -1.22361705e-01  3.93709727e-02\n",
            " -5.44760749e-02  9.34458077e-02  4.45271015e-01 -6.31690845e-02\n",
            "  2.41723642e-01 -1.91027746e-01 -1.23335883e-01 -3.03787291e-01\n",
            "  2.26021498e-01  3.19730729e-01 -3.29578429e-01  1.38426274e-01\n",
            "  2.13072598e-01 -1.03982903e-01  1.20004773e-01  2.49764889e-01\n",
            "  3.14494252e-01  3.00398082e-01 -3.89101833e-01  2.47509316e-01\n",
            "  3.43786418e-01 -1.06675401e-01  3.24208975e-01 -3.03078502e-01\n",
            " -4.23686981e-01  2.80339032e-01  6.52115941e-02  7.37058604e-03\n",
            "  2.38094017e-01 -6.80379495e-02 -1.17110431e-01 -3.61165673e-01\n",
            " -4.63899001e-02 -3.33961137e-02  2.65208691e-01 -8.08697790e-02\n",
            " -7.60212028e-03  1.06571913e-01  3.69884163e-01 -2.54454195e-01\n",
            "  3.39882933e-02  1.75985545e-01 -7.32124522e-02  1.93478405e-01\n",
            "  4.61040974e-01 -1.58898786e-01 -3.29242080e-01 -7.97408149e-02\n",
            " -5.84837459e-02  5.38976416e-02 -7.98527002e-02 -1.67898938e-01\n",
            " -3.20333004e-01 -1.56947598e-01  7.75937587e-02  9.79700387e-02]\n"
          ]
        }
      ]
    },
    {
      "cell_type": "code",
      "source": [
        "from google.colab import files\n",
        "\n",
        "# Download the fine-tuned model\n",
        "files.download('/content/custom_fasttext_model.bin')"
      ],
      "metadata": {
        "colab": {
          "base_uri": "https://localhost:8080/",
          "height": 34
        },
        "id": "yQiZtiBmG0iY",
        "outputId": "8865c30f-7d6a-484b-e470-44293f0a54de"
      },
      "execution_count": 3,
      "outputs": [
        {
          "output_type": "display_data",
          "data": {
            "text/plain": [
              "<IPython.core.display.Javascript object>"
            ],
            "application/javascript": [
              "\n",
              "    async function download(id, filename, size) {\n",
              "      if (!google.colab.kernel.accessAllowed) {\n",
              "        return;\n",
              "      }\n",
              "      const div = document.createElement('div');\n",
              "      const label = document.createElement('label');\n",
              "      label.textContent = `Downloading \"${filename}\": `;\n",
              "      div.appendChild(label);\n",
              "      const progress = document.createElement('progress');\n",
              "      progress.max = size;\n",
              "      div.appendChild(progress);\n",
              "      document.body.appendChild(div);\n",
              "\n",
              "      const buffers = [];\n",
              "      let downloaded = 0;\n",
              "\n",
              "      const channel = await google.colab.kernel.comms.open(id);\n",
              "      // Send a message to notify the kernel that we're ready.\n",
              "      channel.send({})\n",
              "\n",
              "      for await (const message of channel.messages) {\n",
              "        // Send a message to notify the kernel that we're ready.\n",
              "        channel.send({})\n",
              "        if (message.buffers) {\n",
              "          for (const buffer of message.buffers) {\n",
              "            buffers.push(buffer);\n",
              "            downloaded += buffer.byteLength;\n",
              "            progress.value = downloaded;\n",
              "          }\n",
              "        }\n",
              "      }\n",
              "      const blob = new Blob(buffers, {type: 'application/binary'});\n",
              "      const a = document.createElement('a');\n",
              "      a.href = window.URL.createObjectURL(blob);\n",
              "      a.download = filename;\n",
              "      div.appendChild(a);\n",
              "      a.click();\n",
              "      div.remove();\n",
              "    }\n",
              "  "
            ]
          },
          "metadata": {}
        },
        {
          "output_type": "display_data",
          "data": {
            "text/plain": [
              "<IPython.core.display.Javascript object>"
            ],
            "application/javascript": [
              "download(\"download_1dc01622-02f7-4841-b3d8-02576e5b4855\", \"custom_fasttext_model.bin\", 2420800337)"
            ]
          },
          "metadata": {}
        }
      ]
    },
    {
      "cell_type": "code",
      "source": [
        "word_embedding = model.get_word_vector('cloud')\n",
        "print(word_embedding)"
      ],
      "metadata": {
        "colab": {
          "base_uri": "https://localhost:8080/"
        },
        "id": "Ij1ns4aB_20s",
        "outputId": "86b25150-f727-49e9-838d-4791be06cb37"
      },
      "execution_count": 4,
      "outputs": [
        {
          "output_type": "stream",
          "name": "stdout",
          "text": [
            "[-0.11636591  0.2774095   0.07395107 -0.10788349 -0.05116095 -0.18981251\n",
            " -0.01191909  0.30039573  0.13558832 -0.06096635 -0.00536842  0.10982483\n",
            " -0.03454257 -0.02616168  0.47544947 -0.0949809  -0.02325781  0.3775652\n",
            " -0.05147577 -0.07884056 -0.22272019  0.35779804 -0.06418112 -0.19609195\n",
            " -0.04891988  0.4284066  -0.03621875 -0.10794186  0.24325702  0.05556601\n",
            " -0.12202527  0.1792419  -0.19372119 -0.01128397 -0.6649413   0.06145743\n",
            " -0.03152338 -0.1001974   0.03107965 -0.11081782  0.11486556  0.19338474\n",
            "  0.04669748 -0.38662738  0.04875911  0.12001333  0.08577854  0.18270782\n",
            " -0.27901554  0.00486551 -0.19573022 -0.02114312 -0.15535668 -0.08552065\n",
            "  0.10601535 -0.16802669 -0.20498331  0.02976064  0.11267402 -0.12314861\n",
            " -0.06950569  0.05239927  0.17825733 -0.08940574 -0.18430369  0.44185376\n",
            "  0.46806392  0.38400942 -0.05585778 -0.33159664 -0.23437531  0.11685332\n",
            "  0.38769174 -0.43863058  0.03830401  0.12939385  0.01415125  0.2977646\n",
            "  0.13325647  0.2221448  -0.03176923  0.37217098  0.01183692 -0.22219545\n",
            "  0.12039999  0.16351752  0.4243852   0.32457834 -0.11845563 -0.24892616\n",
            "  0.0461841  -0.3080079   0.26170108  0.03252908 -0.07195165  0.30083054\n",
            " -0.2322556   0.0042742  -0.32489184 -0.1846752   0.05283573 -0.01602277\n",
            "  0.08273162  0.06022962  0.03973622 -0.01202785  0.3366339  -0.1268414\n",
            "  0.0121159   0.29211825  0.47852716 -0.26400527 -0.3448973   0.14988722\n",
            " -0.5602573   0.10861288 -0.24165602  0.04000841  0.00092091 -0.02869455\n",
            " -0.14419025  0.14512305 -0.3210099  -0.18330629 -0.17490949 -0.47809306\n",
            "  0.26428148  0.19987445 -0.46130326 -0.12933475  0.05750919 -0.32253638\n",
            "  0.21543792 -0.07451264  0.2803733   0.1669171   0.01169449  0.33055407\n",
            " -0.5213601   0.0875617   0.25503007 -0.29730427 -0.14868915 -0.2776618\n",
            "  0.48005545  0.07792729 -0.1496528   0.31068444 -0.05137014 -0.13987026\n",
            " -0.19030467  0.3748241   0.1237143   0.3845288   0.22170587 -0.23065135\n",
            " -0.2767076  -0.22309627  0.50149894 -0.22661352 -0.10299308 -0.15472275\n",
            " -0.03429445 -0.34913078 -0.00786698 -0.6490522   0.03519496  0.06559836\n",
            " -0.03032332  0.4484573  -0.16302764  0.18181975 -0.00308023 -0.11362534\n",
            " -0.42493704 -0.18448988 -0.01733405 -0.07540067  0.22818948 -0.12975402\n",
            " -0.20675339  0.12141937  0.2442899   0.263553    0.17222778 -0.30505612\n",
            "  0.03084857  0.02225856 -0.20419276  0.03651356 -0.22159365  0.25129727\n",
            " -0.3781025   0.0382176  -0.13114725 -0.4732335   0.18371561 -0.00853414\n",
            "  0.29146847 -0.35005075  0.05025462 -0.23661046 -0.07602268  0.25324932\n",
            "  0.17918241 -0.0028908  -0.16442694 -0.6663653   0.15894511  0.19883193\n",
            "  0.01251881  0.28740674 -0.28085446 -0.2554979  -0.25031847  0.04391371\n",
            "  0.2661239   0.18885447  0.09593216 -0.10234904 -0.03492162 -0.04148499\n",
            "  0.21765055 -0.01901886  0.09652047 -0.05511673 -0.41738608 -0.07167838\n",
            " -0.15127541 -0.40040338  0.08863998  0.5647057  -0.1974936  -0.12601084\n",
            "  0.6196635  -0.3117285  -0.05881351 -0.10377093 -0.0081272  -0.62004215\n",
            "  0.1068977  -0.11460248 -0.12238636  0.27649626 -0.10268789  0.19652529\n",
            " -0.00279412 -0.26959068  0.2600551   0.0827328   0.08943328 -0.35491434\n",
            "  0.2706281   0.02713992  0.1138103  -0.09312323  0.13183008 -0.16891222\n",
            " -0.00958235  0.22688743 -0.01325978 -0.03816049  0.1512454  -0.1374167\n",
            "  0.16720133  0.45271218 -0.27164084  0.1120377   0.09725866 -0.32684937\n",
            " -0.15668847 -0.11659171  0.05344136  0.12164654  0.45457536  0.04265081\n",
            "  0.4578978  -0.02383191 -0.18603638  0.01317027  0.01491395  0.05367568\n",
            " -0.25683236  0.06027607  0.02984924  0.03243588 -0.0652497   0.01290304\n",
            "  0.27112356 -0.13446611 -0.04585266 -0.30245075  0.0699513   0.14431252\n",
            "  0.14586921 -0.08399056  0.05096341 -0.00484067  0.0300754   0.48567864]\n"
          ]
        }
      ]
    },
    {
      "cell_type": "code",
      "source": [
        "!pip install annoy"
      ],
      "metadata": {
        "colab": {
          "base_uri": "https://localhost:8080/"
        },
        "id": "Sp43TltSAVQ2",
        "outputId": "dbb6378d-3de2-4f64-db7e-365a2d967da9"
      },
      "execution_count": 5,
      "outputs": [
        {
          "output_type": "stream",
          "name": "stdout",
          "text": [
            "Collecting annoy\n",
            "  Downloading annoy-1.17.3.tar.gz (647 kB)\n",
            "\u001b[2K     \u001b[90m━━━━━━━━━━━━━━━━━━━━━━━━━━━━━━━━━━━━━━━━\u001b[0m \u001b[32m647.5/647.5 kB\u001b[0m \u001b[31m4.1 MB/s\u001b[0m eta \u001b[36m0:00:00\u001b[0m\n",
            "\u001b[?25h  Preparing metadata (setup.py) ... \u001b[?25l\u001b[?25hdone\n",
            "Building wheels for collected packages: annoy\n",
            "  Building wheel for annoy (setup.py) ... \u001b[?25l\u001b[?25hdone\n",
            "  Created wheel for annoy: filename=annoy-1.17.3-cp310-cp310-linux_x86_64.whl size=552449 sha256=52a12a58d45960860c03a830b2b3b9953c57e644d013f1d0e5401602c224dbeb\n",
            "  Stored in directory: /root/.cache/pip/wheels/64/8a/da/f714bcf46c5efdcfcac0559e63370c21abe961c48e3992465a\n",
            "Successfully built annoy\n",
            "Installing collected packages: annoy\n",
            "Successfully installed annoy-1.17.3\n"
          ]
        }
      ]
    },
    {
      "cell_type": "code",
      "source": [
        "!pip install matplotlib"
      ],
      "metadata": {
        "colab": {
          "base_uri": "https://localhost:8080/"
        },
        "id": "WtzITBpHB2--",
        "outputId": "98102e30-075f-476f-ea94-9d0ff70f57a6"
      },
      "execution_count": 6,
      "outputs": [
        {
          "output_type": "stream",
          "name": "stdout",
          "text": [
            "Requirement already satisfied: matplotlib in /usr/local/lib/python3.10/dist-packages (3.7.1)\n",
            "Requirement already satisfied: contourpy>=1.0.1 in /usr/local/lib/python3.10/dist-packages (from matplotlib) (1.2.1)\n",
            "Requirement already satisfied: cycler>=0.10 in /usr/local/lib/python3.10/dist-packages (from matplotlib) (0.12.1)\n",
            "Requirement already satisfied: fonttools>=4.22.0 in /usr/local/lib/python3.10/dist-packages (from matplotlib) (4.53.0)\n",
            "Requirement already satisfied: kiwisolver>=1.0.1 in /usr/local/lib/python3.10/dist-packages (from matplotlib) (1.4.5)\n",
            "Requirement already satisfied: numpy>=1.20 in /usr/local/lib/python3.10/dist-packages (from matplotlib) (1.25.2)\n",
            "Requirement already satisfied: packaging>=20.0 in /usr/local/lib/python3.10/dist-packages (from matplotlib) (24.1)\n",
            "Requirement already satisfied: pillow>=6.2.0 in /usr/local/lib/python3.10/dist-packages (from matplotlib) (9.4.0)\n",
            "Requirement already satisfied: pyparsing>=2.3.1 in /usr/local/lib/python3.10/dist-packages (from matplotlib) (3.1.2)\n",
            "Requirement already satisfied: python-dateutil>=2.7 in /usr/local/lib/python3.10/dist-packages (from matplotlib) (2.8.2)\n",
            "Requirement already satisfied: six>=1.5 in /usr/local/lib/python3.10/dist-packages (from python-dateutil>=2.7->matplotlib) (1.16.0)\n"
          ]
        }
      ]
    },
    {
      "cell_type": "code",
      "source": [
        "\n",
        "!pip install scikit-learn"
      ],
      "metadata": {
        "colab": {
          "base_uri": "https://localhost:8080/"
        },
        "id": "xKZXtRD0DQHq",
        "outputId": "d6e4c500-8075-4935-bf6c-66642d07607c"
      },
      "execution_count": 7,
      "outputs": [
        {
          "output_type": "stream",
          "name": "stdout",
          "text": [
            "Requirement already satisfied: scikit-learn in /usr/local/lib/python3.10/dist-packages (1.2.2)\n",
            "Requirement already satisfied: numpy>=1.17.3 in /usr/local/lib/python3.10/dist-packages (from scikit-learn) (1.25.2)\n",
            "Requirement already satisfied: scipy>=1.3.2 in /usr/local/lib/python3.10/dist-packages (from scikit-learn) (1.11.4)\n",
            "Requirement already satisfied: joblib>=1.1.1 in /usr/local/lib/python3.10/dist-packages (from scikit-learn) (1.4.2)\n",
            "Requirement already satisfied: threadpoolctl>=2.0.0 in /usr/local/lib/python3.10/dist-packages (from scikit-learn) (3.5.0)\n"
          ]
        }
      ]
    },
    {
      "cell_type": "code",
      "source": [
        "import fasttext\n",
        "from annoy import AnnoyIndex\n",
        "import numpy as np\n",
        "import matplotlib.pyplot as plt\n",
        "from sklearn.metrics.pairwise import cosine_similarity"
      ],
      "metadata": {
        "id": "RXtu2n_1EuW4"
      },
      "execution_count": 8,
      "outputs": []
    },
    {
      "cell_type": "code",
      "source": [
        "from annoy import AnnoyIndex\n",
        "import numpy as np\n",
        "\n",
        "# Load the fine-tuned model\n",
        "model = fasttext.load_model('/content/custom_fasttext_model.bin')\n",
        "\n",
        "# Create an Annoy index\n",
        "vector_dim = 300  # Dimensionality of word vectors\n",
        "annoy_index = AnnoyIndex(vector_dim, 'angular')\n",
        "\n",
        "# Add words to the Annoy index\n",
        "words = model.get_words()\n",
        "for i, word in enumerate(words):\n",
        "    vector = model.get_word_vector(word)\n",
        "    annoy_index.add_item(i, vector)\n",
        "\n",
        "# Build the index with the specified number of trees\n",
        "annoy_index.build(10)\n",
        "\n",
        "# Function to find similar words\n",
        "def find_similar_words(query_word, model, annoy_index, top_n=10):\n",
        "    query_vector = model.get_word_vector(query_word)\n",
        "    nearest_indices = annoy_index.get_nns_by_vector(query_vector, top_n)\n",
        "    similar_words = [words[i] for i in nearest_indices]\n",
        "    return similar_words\n",
        "\n",
        "# Function to calculate similarity scores\n",
        "def calculate_similarity_scores(query_word, similar_words, model):\n",
        "    query_vector = model.get_word_vector(query_word).reshape(1, -1)\n",
        "    similarity_scores = []\n",
        "    for word in similar_words:\n",
        "        word_vector = model.get_word_vector(word).reshape(1, -1)\n",
        "        similarity = cosine_similarity(query_vector, word_vector)[0][0]\n",
        "        similarity_scores.append(similarity)\n",
        "    return similarity_scores\n",
        "\n",
        "# Function to plot similar words and similarity scores as a scatter plot\n",
        "def plot_similar_words(query_word, similar_words, similarity_scores):\n",
        "    plt.figure(figsize=(10, 6))\n",
        "    plt.scatter(similar_words, similarity_scores, color='skyblue')\n",
        "    for i, word in enumerate(similar_words):\n",
        "        plt.text(word, similarity_scores[i], f'{similarity_scores[i]:.4f}', fontsize=9, ha='center')\n",
        "    plt.xlabel('Words')\n",
        "    plt.ylabel('Cosine Similarity')\n",
        "    plt.title(f'Similar Words to \"{query_word}\"')\n",
        "    plt.xticks(rotation=45)\n",
        "    plt.show()\n",
        "\n",
        "# Example usage\n",
        "query_word = 'cloud'\n",
        "similar_words = find_similar_words(query_word, model, annoy_index)\n",
        "print(similar_words)\n"
      ],
      "metadata": {
        "colab": {
          "base_uri": "https://localhost:8080/"
        },
        "id": "Hs-XMCCMAMFm",
        "outputId": "a781a14c-56e4-4cb6-9c2a-72900abe8cf9"
      },
      "execution_count": 11,
      "outputs": [
        {
          "output_type": "stream",
          "name": "stdout",
          "text": [
            "['cloud', 'Cloud.', 'CloudCall’s', 'Cloud,', 'CloudCall', 'pursue', 'CU', 'Vocareum’s', 'ready-to-teach', 'careers']\n"
          ]
        }
      ]
    },
    {
      "cell_type": "code",
      "source": [
        "query_word = 'Athena'\n",
        "similar_words = find_similar_words(query_word, model, annoy_index)\n",
        "similarity_scores = calculate_similarity_scores(query_word, similar_words,model)\n",
        "print(f\"Similar words to '{query_word}':\")\n",
        "for word, score in zip(similar_words, similarity_scores):\n",
        "    print(f\"{word}: {score:.4f}\")\n",
        "plot_similar_words(query_word, similar_words, similarity_scores)"
      ],
      "metadata": {
        "colab": {
          "base_uri": "https://localhost:8080/",
          "height": 671
        },
        "id": "4c0sp3_eAiMR",
        "outputId": "480a0199-9e5d-49c8-caaa-a371b895b1c2"
      },
      "execution_count": 12,
      "outputs": [
        {
          "output_type": "stream",
          "name": "stdout",
          "text": [
            "Similar words to 'Athena':\n",
            "Athena: 1.0000\n",
            "Athena.: 0.9680\n",
            "Athena,: 0.9443\n",
            "SQL.: 0.7941\n",
            "UDF: 0.7172\n",
            "ES: 0.6829\n",
            "Glue: 0.6646\n",
            "Glue,: 0.6596\n",
            "KNN: 0.6442\n",
            "Translate,: 0.6368\n"
          ]
        },
        {
          "output_type": "display_data",
          "data": {
            "text/plain": [
              "<Figure size 1000x600 with 1 Axes>"
            ],
            "image/png": "[encoded data removed]"
          },
          "metadata": {}
        }
      ]
    }
  ]
}